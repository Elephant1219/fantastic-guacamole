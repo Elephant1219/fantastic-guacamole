{
  "metadata": {
    "kernelspec": {
      "name": "python",
      "display_name": "Python (Pyodide)",
      "language": "python"
    },
    "language_info": {
      "codemirror_mode": {
        "name": "python",
        "version": 3
      },
      "file_extension": ".py",
      "mimetype": "text/x-python",
      "name": "python",
      "nbconvert_exporter": "python",
      "pygments_lexer": "ipython3",
      "version": "3.8"
    }
  },
  "nbformat_minor": 5,
  "nbformat": 4,
  "cells": [
    {
      "id": "549b6cf7-e1f4-4782-875f-8fe330684885",
      "cell_type": "code",
      "source": "# 导入库\nimport pandas as pd\nimport seaborn as sns\nimport matplotlib.pyplot as plt\n\n# 加载数据集\niris = sns.load_dataset('iris')\n\n# 可视化1：散点图（花瓣宽度 vs 花瓣长度，按类别着色）\nplt.figure(figsize=(9, 6))\nsns.scatterplot(data=iris, x='petal_length', y='petal_width', hue='species')\nplt.title('Petal Length vs Petal Width')\nplt.show()\n\n# 可视化2：箱线图（各特征分布）\nplt.figure(figsize=(12, 6))\nsns.boxplot(data=iris.melt(id_vars='species'), x='variable', y='value', hue='species')\nplt.title('Feature Distributions by Species')\nplt.xticks(rotation=45)\nplt.show()\n\n# 可视化3：直方图（花萼长度分布）\nplt.figure(figsize=(9, 6))\nsns.histplot(data=iris, x='sepal_length', kde=True, hue='species')\nplt.title('Sepal Length Distribution')\nplt.show()\n\n# 可视化4：热力图（特征相关性）\nplt.figure(figsize=(9, 6))\ncorr = iris.corr(numeric_only=True)\nsns.heatmap(corr, annot=True, cmap='coolwarm')\nplt.title('Feature Correlation Heatmap')\nplt.show()",
      "metadata": {
        "trusted": true
      },
      "outputs": [],
      "execution_count": null
    }
  ]
}